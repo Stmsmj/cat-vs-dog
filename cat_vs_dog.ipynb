{
 "cells": [
  {
   "cell_type": "code",
   "execution_count": 1,
   "metadata": {},
   "outputs": [],
   "source": [
    "#https://www.kaggle.com/datasets/karakaggle/kaggle-cat-vs-dog-dataset"\n
    "import pandas as pd\n",
    "import numpy as np\n",
    "import seaborn as sns\n",
    "from sklearn.model_selection import train_test_split\n",
    "import matplotlib.pyplot as plt\n",
    "import tensorflow as tf\n",
    "from tensorflow import keras\n",
    "from sklearn.metrics import f1_score,accuracy_score,confusion_matrix,mean_squared_error,r2_score,mean_absolute_error\n",
    "from sklearn.preprocessing import MinMaxScaler\n",
    "from sklearn.impute import SimpleImputer\n",
    "from sklearn.model_selection import cross_val_score\n",
    "from sklearn.decomposition import PCA\n",
    "import os\n",
    "import cv2\n",
    "import random\n",
    "import pickle"
   ]
  },
  {
   "cell_type": "code",
   "execution_count": 7,
   "metadata": {},
   "outputs": [],
   "source": [
    "# load and resizing the images\n",
    "categories=['Cat','Dog']\n",
    "MyDs=[]\n",
    "for category in categories:\n",
    "    if category=='Cat':\n",
    "        label=0\n",
    "    else:\n",
    "        label=1\n",
    "    Path=os.path.join('D:\\datasets\\cat vs dog\\PetImages',category)\n",
    "    for pic_name in os.listdir(Path):\n",
    "        try:\n",
    "            image=cv2.imread(os.path.join(Path,pic_name))\n",
    "            resized = cv2.resize(image, (100, 100))\n",
    "        except:\n",
    "            pass\n",
    "        MyDs.append([resized,label])\n"
   ]
  },
  {
   "cell_type": "code",
   "execution_count": 8,
   "metadata": {},
   "outputs": [],
   "source": [
    "# rescaling\n",
    "for i in range(len(MyDs)):\n",
    "    MyDs[i][0]=MyDs[i][0]/255"
   ]
  },
  {
   "cell_type": "code",
   "execution_count": 9,
   "metadata": {},
   "outputs": [],
   "source": [
    "# shuffling\n",
    "random.shuffle(MyDs)"
   ]
  },
  {
   "cell_type": "code",
   "execution_count": 3,
   "metadata": {},
   "outputs": [],
   "source": [
    "# pickle_out=open('MyDs.pkl','wb')\n",
    "# pickle.dump(MyDs,pickle_out)\n",
    "# pickle_out.close()\n",
    "\n",
    "pickle_in=open('MyDs.pkl','rb')\n",
    "MyDs=pickle.load(pickle_in)"
   ]
  },
  {
   "cell_type": "code",
   "execution_count": 4,
   "metadata": {},
   "outputs": [],
   "source": [
    "X_MyDs=[]\n",
    "Y_MyDs=[]\n",
    "for x,y in MyDs:\n",
    "    X_MyDs.append(x)\n",
    "    Y_MyDs.append(y)"
   ]
  },
  {
   "cell_type": "code",
   "execution_count": 5,
   "metadata": {},
   "outputs": [],
   "source": [
    "x_train,x_test,y_train,y_test=train_test_split(X_MyDs,Y_MyDs,test_size=0.21,random_state=42,shuffle=True)\n",
    "x_train,x_val,y_train,y_val=train_test_split(x_train,y_train,test_size=0.18,random_state=42)\n",
    "x_train=np.array(x_train)\n",
    "x_test=np.array(x_test)\n",
    "x_val=np.array(x_val)\n",
    "y_train=np.array(y_train)\n",
    "y_test=np.array(y_test)\n",
    "y_val=np.array(y_val)"
   ]
  },
  {
   "cell_type": "code",
   "execution_count": 6,
   "metadata": {},
   "outputs": [
    {
     "name": "stdout",
     "output_type": "stream",
     "text": [
      "Model: \"sequential\"\n",
      "_________________________________________________________________\n",
      " Layer (type)                Output Shape              Param #   \n",
      "=================================================================\n",
      " conv2d (Conv2D)             (None, 96, 96, 32)        2432      \n",
      "                                                                 \n",
      " max_pooling2d (MaxPooling2D  (None, 48, 48, 32)       0         \n",
      " )                                                               \n",
      "                                                                 \n",
      " conv2d_1 (Conv2D)           (None, 46, 46, 64)        18496     \n",
      "                                                                 \n",
      " max_pooling2d_1 (MaxPooling  (None, 23, 23, 64)       0         \n",
      " 2D)                                                             \n",
      "                                                                 \n",
      " conv2d_2 (Conv2D)           (None, 21, 21, 128)       73856     \n",
      "                                                                 \n",
      " max_pooling2d_2 (MaxPooling  (None, 10, 10, 128)      0         \n",
      " 2D)                                                             \n",
      "                                                                 \n",
      " conv2d_3 (Conv2D)           (None, 10, 10, 128)       147584    \n",
      "                                                                 \n",
      " conv2d_4 (Conv2D)           (None, 10, 10, 256)       295168    \n",
      "                                                                 \n",
      " max_pooling2d_3 (MaxPooling  (None, 5, 5, 256)        0         \n",
      " 2D)                                                             \n",
      "                                                                 \n",
      " flatten (Flatten)           (None, 6400)              0         \n",
      "                                                                 \n",
      " dense (Dense)               (None, 256)               1638656   \n",
      "                                                                 \n",
      " dropout (Dropout)           (None, 256)               0         \n",
      "                                                                 \n",
      " dense_1 (Dense)             (None, 64)                16448     \n",
      "                                                                 \n",
      " dropout_1 (Dropout)         (None, 64)                0         \n",
      "                                                                 \n",
      " dense_2 (Dense)             (None, 16)                1040      \n",
      "                                                                 \n",
      " dropout_2 (Dropout)         (None, 16)                0         \n",
      "                                                                 \n",
      " dense_3 (Dense)             (None, 1)                 17        \n",
      "                                                                 \n",
      "=================================================================\n",
      "Total params: 2,193,697\n",
      "Trainable params: 2,193,697\n",
      "Non-trainable params: 0\n",
      "_________________________________________________________________\n"
     ]
    }
   ],
   "source": [
    "model=tf.keras.Sequential([\n",
    "    keras.layers.Conv2D(32,kernel_size=(5,5),activation='relu',input_shape=(100,100,3),kernel_constraint=keras.constraints.max_norm(0.6)),\n",
    "    keras.layers.MaxPool2D(pool_size=(2,2),strides=2),\n",
    "    keras.layers.Conv2D(64,kernel_size=(3,3),activation='relu',kernel_constraint=keras.constraints.max_norm(0.6)),\n",
    "    keras.layers.MaxPool2D(pool_size=(2)),\n",
    "    keras.layers.Conv2D(128,kernel_size=(3,3),activation='relu',kernel_constraint=keras.constraints.max_norm(0.6)),\n",
    "    keras.layers.MaxPool2D(pool_size=(2)),\n",
    "    keras.layers.Conv2D(128,kernel_size=(3,3),activation='relu',padding='same',kernel_constraint=keras.constraints.max_norm(0.6)),\n",
    "    keras.layers.Conv2D(256,kernel_size=(3,3),activation='relu',padding='same',kernel_constraint=keras.constraints.max_norm(0.6)),\n",
    "    keras.layers.MaxPool2D(pool_size=(2)),\n",
    "    keras.layers.Flatten(),\n",
    "    keras.layers.Dense(256,activation='relu',kernel_constraint=keras.constraints.max_norm(0.6)),\n",
    "    keras.layers.Dropout(rate=0.5),\n",
    "    keras.layers.Dense(64,activation='relu',kernel_constraint=keras.constraints.max_norm(0.6)),\n",
    "    keras.layers.Dropout(rate=0.5),\n",
    "    keras.layers.Dense(16,activation='relu',kernel_constraint=keras.constraints.max_norm(0.6)),\n",
    "    keras.layers.Dropout(rate=0.5),\n",
    "    keras.layers.Dense(1,activation='sigmoid')\n",
    "])\n",
    "\n",
    "model.summary()"
   ]
  },
  {
   "cell_type": "code",
   "execution_count": 7,
   "metadata": {},
   "outputs": [],
   "source": [
    "model.compile(loss='binary_crossentropy',optimizer=keras.optimizers.Adam(learning_rate=0.0001),metrics=['accuracy'])"
   ]
  },
  {
   "cell_type": "code",
   "execution_count": 8,
   "metadata": {},
   "outputs": [
    {
     "name": "stdout",
     "output_type": "stream",
     "text": [
      "Epoch 1/23\n",
      "506/506 [==============================] - 9s 16ms/step - loss: 0.6928 - accuracy: 0.5065 - val_loss: 0.6927 - val_accuracy: 0.5383\n",
      "Epoch 2/23\n",
      "506/506 [==============================] - 6s 12ms/step - loss: 0.6893 - accuracy: 0.5222 - val_loss: 0.6728 - val_accuracy: 0.5789\n",
      "Epoch 3/23\n",
      "506/506 [==============================] - 6s 12ms/step - loss: 0.6515 - accuracy: 0.6257 - val_loss: 0.6356 - val_accuracy: 0.6456\n",
      "Epoch 4/23\n",
      "506/506 [==============================] - 6s 12ms/step - loss: 0.6244 - accuracy: 0.6671 - val_loss: 0.5914 - val_accuracy: 0.6806\n",
      "Epoch 5/23\n",
      "506/506 [==============================] - 6s 12ms/step - loss: 0.5840 - accuracy: 0.7086 - val_loss: 0.5878 - val_accuracy: 0.6696\n",
      "Epoch 6/23\n",
      "506/506 [==============================] - 6s 12ms/step - loss: 0.5413 - accuracy: 0.7420 - val_loss: 0.4936 - val_accuracy: 0.7583\n",
      "Epoch 7/23\n",
      "506/506 [==============================] - 6s 12ms/step - loss: 0.4937 - accuracy: 0.7755 - val_loss: 0.4767 - val_accuracy: 0.7792\n",
      "Epoch 8/23\n",
      "506/506 [==============================] - 6s 12ms/step - loss: 0.4647 - accuracy: 0.7984 - val_loss: 0.4332 - val_accuracy: 0.7887\n",
      "Epoch 9/23\n",
      "506/506 [==============================] - 6s 12ms/step - loss: 0.4305 - accuracy: 0.8193 - val_loss: 0.4106 - val_accuracy: 0.8186\n",
      "Epoch 10/23\n",
      "506/506 [==============================] - 6s 12ms/step - loss: 0.4062 - accuracy: 0.8335 - val_loss: 0.3751 - val_accuracy: 0.8327\n",
      "Epoch 11/23\n",
      "506/506 [==============================] - 6s 12ms/step - loss: 0.3844 - accuracy: 0.8461 - val_loss: 0.3765 - val_accuracy: 0.8290\n",
      "Epoch 12/23\n",
      "506/506 [==============================] - 6s 12ms/step - loss: 0.3620 - accuracy: 0.8581 - val_loss: 0.3492 - val_accuracy: 0.8473\n",
      "Epoch 13/23\n",
      "506/506 [==============================] - 6s 12ms/step - loss: 0.3412 - accuracy: 0.8656 - val_loss: 0.3473 - val_accuracy: 0.8442\n",
      "Epoch 14/23\n",
      "506/506 [==============================] - 6s 12ms/step - loss: 0.3229 - accuracy: 0.8720 - val_loss: 0.3457 - val_accuracy: 0.8434\n",
      "Epoch 15/23\n",
      "506/506 [==============================] - 6s 12ms/step - loss: 0.3049 - accuracy: 0.8814 - val_loss: 0.3679 - val_accuracy: 0.8456\n",
      "Epoch 16/23\n",
      "506/506 [==============================] - 6s 12ms/step - loss: 0.2846 - accuracy: 0.8933 - val_loss: 0.3152 - val_accuracy: 0.8631\n",
      "Epoch 17/23\n",
      "506/506 [==============================] - 6s 12ms/step - loss: 0.2669 - accuracy: 0.9024 - val_loss: 0.3192 - val_accuracy: 0.8583\n",
      "Epoch 18/23\n",
      "506/506 [==============================] - 6s 12ms/step - loss: 0.2573 - accuracy: 0.9082 - val_loss: 0.3220 - val_accuracy: 0.8639\n",
      "Epoch 19/23\n",
      "506/506 [==============================] - 6s 12ms/step - loss: 0.2472 - accuracy: 0.9112 - val_loss: 0.3643 - val_accuracy: 0.8510\n",
      "Epoch 20/23\n",
      "506/506 [==============================] - 6s 12ms/step - loss: 0.2241 - accuracy: 0.9209 - val_loss: 0.3463 - val_accuracy: 0.8575\n",
      "Epoch 21/23\n",
      "506/506 [==============================] - 6s 12ms/step - loss: 0.2087 - accuracy: 0.9268 - val_loss: 0.3255 - val_accuracy: 0.8628\n",
      "Epoch 22/23\n",
      "506/506 [==============================] - 6s 12ms/step - loss: 0.2023 - accuracy: 0.9281 - val_loss: 0.3340 - val_accuracy: 0.8639\n",
      "Epoch 23/23\n",
      "506/506 [==============================] - 6s 12ms/step - loss: 0.1909 - accuracy: 0.9379 - val_loss: 0.3402 - val_accuracy: 0.8679\n"
     ]
    }
   ],
   "source": [
    "history=model.fit(x_train,y_train,validation_data=(x_val,y_val),validation_batch_size=32,epochs=23)"
   ]
  },
  {
   "cell_type": "code",
   "execution_count": 9,
   "metadata": {},
   "outputs": [
    {
     "data": {
      "text/plain": [
       "<Axes: >"
      ]
     },
     "execution_count": 9,
     "metadata": {},
     "output_type": "execute_result"
    },
    {
     "data": {
      "image/png": "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",
      "text/plain": [
       "<Figure size 640x480 with 1 Axes>"
      ]
     },
     "metadata": {},
     "output_type": "display_data"
    }
   ],
   "source": [
    "sns.lineplot(history.history)"
   ]
  },
  {
   "cell_type": "code",
   "execution_count": 10,
   "metadata": {},
   "outputs": [
    {
     "name": "stdout",
     "output_type": "stream",
     "text": [
      "164/164 [==============================] - 1s 3ms/step\n"
     ]
    }
   ],
   "source": [
    "predictions=model.predict(x_test)\n",
    "predictions=predictions.reshape(5242,)\n"
   ]
  },
  {
   "cell_type": "code",
   "execution_count": 11,
   "metadata": {},
   "outputs": [
    {
     "name": "stdout",
     "output_type": "stream",
     "text": [
      "r2=0.6114749528617146  ///  adj_r2=0.6039175701124774\n"
     ]
    }
   ],
   "source": [
    "r2=r2_score(y_test,predictions)\n",
    "Adj_r2= 1-(1-r2)*(5242-1)/(5242-100-1)\n",
    "print(f'r2={r2}  ///  adj_r2={Adj_r2}')"
   ]
  },
  {
   "cell_type": "code",
   "execution_count": 12,
   "metadata": {},
   "outputs": [
    {
     "name": "stdout",
     "output_type": "stream",
     "text": [
      "rmse=0.3116384708282159  ///  mse=0.09711853650014877  ///  mae=0.15013136489849307\n"
     ]
    }
   ],
   "source": [
    "mse=mean_squared_error(y_test,predictions)\n",
    "mae=mean_absolute_error(y_test,predictions)\n",
    "rmse=np.sqrt(mse)\n",
    "print(f'rmse={rmse}  ///  mse={mse}  ///  mae={mae}')"
   ]
  },
  {
   "cell_type": "code",
   "execution_count": 13,
   "metadata": {},
   "outputs": [
    {
     "name": "stdout",
     "output_type": "stream",
     "text": [
      "f1_score:0.8775548471779485 \n",
      "\n",
      "confusion maxtrix:\n",
      "[[2249  342]\n",
      " [ 311 2340]] \n",
      "\n",
      "accuracy_score:0.8754292254864555\n"
     ]
    }
   ],
   "source": [
    "predictions_2=np.where(predictions>=0.5,1,0)\n",
    "\n",
    "print(f'f1_score:{f1_score(y_test,predictions_2)}','\\n')\n",
    "print('confusion maxtrix:')\n",
    "print(confusion_matrix(y_test,predictions_2),'\\n')\n",
    "print(f'accuracy_score:{accuracy_score(y_test,predictions_2)}')"
   ]
  },
  {
   "cell_type": "code",
   "execution_count": 2,
   "metadata": {},
   "outputs": [],
   "source": [
    "# model.save('model.h5')\n",
    "\n",
    "w=keras.models.load_model('model.h5')"
   ]
  },
  {
   "cell_type": "code",
   "execution_count": null,
   "metadata": {},
   "outputs": [],
   "source": []
  },
  {
   "cell_type": "code",
   "execution_count": null,
   "metadata": {},
   "outputs": [],
   "source": []
  },
  {
   "cell_type": "code",
   "execution_count": null,
   "metadata": {},
   "outputs": [],
   "source": []
  },
  {
   "cell_type": "code",
   "execution_count": null,
   "metadata": {},
   "outputs": [],
   "source": []
  },
  {
   "cell_type": "code",
   "execution_count": null,
   "metadata": {},
   "outputs": [],
   "source": []
  },
  {
   "cell_type": "code",
   "execution_count": 9,
   "metadata": {},
   "outputs": [],
   "source": [
    "import pandas as pd\n",
    "import numpy as np\n",
    "import seaborn as sns\n",
    "# from sklearn.model_selection import train_test_split\n",
    "import matplotlib.pyplot as plt\n",
    "import tensorflow as tf\n",
    "from tensorflow import keras\n",
    "# from sklearn.metrics import f1_score,accuracy_score,confusion_matrix,mean_squared_error,r2_score,mean_absolute_error\n",
    "# from sklearn.preprocessing import MinMaxScaler\n",
    "# from sklearn.impute import SimpleImputer\n",
    "# from sklearn.model_selection import cross_val_score\n",
    "from sklearn.utils import shuffle\n",
    "from sklearn.decomposition import PCA\n",
    "import os\n",
    "import cv2\n",
    "# import pickle\n",
    "from tqdm import tqdm"
   ]
  },
  {
   "cell_type": "code",
   "execution_count": 17,
   "metadata": {},
   "outputs": [
    {
     "name": "stdout",
     "output_type": "stream",
     "text": [
      "Model: \"sequential_2\"\n",
      "_________________________________________________________________\n",
      " Layer (type)                Output Shape              Param #   \n",
      "=================================================================\n",
      " conv2d_10 (Conv2D)          (None, 196, 196, 32)      2432      \n",
      "                                                                 \n",
      " max_pooling2d_8 (MaxPooling  (None, 98, 98, 32)       0         \n",
      " 2D)                                                             \n",
      "                                                                 \n",
      " conv2d_11 (Conv2D)          (None, 96, 96, 64)        18496     \n",
      "                                                                 \n",
      " max_pooling2d_9 (MaxPooling  (None, 48, 48, 64)       0         \n",
      " 2D)                                                             \n",
      "                                                                 \n",
      " conv2d_12 (Conv2D)          (None, 46, 46, 128)       73856     \n",
      "                                                                 \n",
      " max_pooling2d_10 (MaxPoolin  (None, 23, 23, 128)      0         \n",
      " g2D)                                                            \n",
      "                                                                 \n",
      " conv2d_13 (Conv2D)          (None, 23, 23, 128)       147584    \n",
      "                                                                 \n",
      " conv2d_14 (Conv2D)          (None, 23, 23, 256)       295168    \n",
      "                                                                 \n",
      " max_pooling2d_11 (MaxPoolin  (None, 11, 11, 256)      0         \n",
      " g2D)                                                            \n",
      "                                                                 \n",
      " flatten_2 (Flatten)         (None, 30976)             0         \n",
      "                                                                 \n",
      " dense_8 (Dense)             (None, 256)               7930112   \n",
      "                                                                 \n",
      " dropout_6 (Dropout)         (None, 256)               0         \n",
      "                                                                 \n",
      " dense_9 (Dense)             (None, 64)                16448     \n",
      "                                                                 \n",
      " dropout_7 (Dropout)         (None, 64)                0         \n",
      "                                                                 \n",
      " dense_10 (Dense)            (None, 16)                1040      \n",
      "                                                                 \n",
      " dropout_8 (Dropout)         (None, 16)                0         \n",
      "                                                                 \n",
      " dense_11 (Dense)            (None, 1)                 17        \n",
      "                                                                 \n",
      "=================================================================\n",
      "Total params: 8,485,153\n",
      "Trainable params: 8,485,153\n",
      "Non-trainable params: 0\n",
      "_________________________________________________________________\n"
     ]
    }
   ],
   "source": [
    "model=tf.keras.Sequential([\n",
    "    keras.layers.Conv2D(32,kernel_size=(5,5),activation='relu',input_shape=(200,200,3),kernel_constraint=keras.constraints.max_norm(0.6)),\n",
    "    keras.layers.MaxPool2D(pool_size=(2,2),strides=2),\n",
    "    keras.layers.Conv2D(64,kernel_size=(3,3),activation='relu',kernel_constraint=keras.constraints.max_norm(0.6)),\n",
    "    keras.layers.MaxPool2D(pool_size=(2)),\n",
    "    keras.layers.Conv2D(128,kernel_size=(3,3),activation='relu',kernel_constraint=keras.constraints.max_norm(0.6)),\n",
    "    keras.layers.MaxPool2D(pool_size=(2)),\n",
    "    keras.layers.Conv2D(128,kernel_size=(3,3),activation='relu',padding='same',kernel_constraint=keras.constraints.max_norm(0.6)),\n",
    "    keras.layers.Conv2D(256,kernel_size=(3,3),activation='relu',padding='same',kernel_constraint=keras.constraints.max_norm(0.6)),\n",
    "    keras.layers.MaxPool2D(pool_size=(2)),\n",
    "    keras.layers.Flatten(),\n",
    "    keras.layers.Dense(256,activation='relu',kernel_constraint=keras.constraints.max_norm(0.6)),\n",
    "    keras.layers.Dropout(rate=0.5),\n",
    "    keras.layers.Dense(64,activation='relu',kernel_constraint=keras.constraints.max_norm(0.6)),\n",
    "    keras.layers.Dropout(rate=0.5),\n",
    "    keras.layers.Dense(16,activation='relu',kernel_constraint=keras.constraints.max_norm(0.6)),\n",
    "    keras.layers.Dropout(rate=0.5),\n",
    "    keras.layers.Dense(1,activation='sigmoid')\n",
    "])\n",
    "\n",
    "model.compile(loss='binary_crossentropy',optimizer=keras.optimizers.Adam(learning_rate=0.0001),metrics=['accuracy'])\n",
    "model.summary()"
   ]
  },
  {
   "cell_type": "code",
   "execution_count": 18,
   "metadata": {},
   "outputs": [],
   "source": [
    "def pic_augmentation(data,label,augmentation_num,batch_size):\n",
    "    length=len(label)\n",
    "    ultimate_list=[]\n",
    "    list_of_pic_x=[]\n",
    "    list_of_pic_y=[]\n",
    "    for index in range(length):\n",
    "        pic=data[index]\n",
    "        y=label[index]\n",
    "        for num in range(augmentation_num):\n",
    "            Seed=(num,0)\n",
    "            pic=tf.image.stateless_random_brightness(pic,max_delta=0.3,seed=Seed)\n",
    "            pic=tf.image.stateless_random_contrast(pic,lower=0.1,upper=0.9,seed=Seed)\n",
    "            pic=tf.image.stateless_random_flip_left_right(pic,seed=Seed)\n",
    "            augmented_pic=tf.image.stateless_random_flip_up_down(pic,seed=Seed)\n",
    "            # tf.image.stateless_random_jpeg_quality(pic,?)\n",
    "            # tf.image.stateless_random_crop(pic,?)\n",
    "            # tf.image.stateless_random_saturation(pic)\n",
    "            # tf.image.stateless_random_hue(pic)\n",
    "            # tf.image.stateless_sample_distorted_bounding_box(pic)\n",
    "            data.append(augmented_pic)\n",
    "            label.append(y)\n",
    "    shuffled_data,shuffled_label=shuffle(data,label)\n",
    "    for data,label in zip(shuffled_data,shuffled_label):\n",
    "        list_of_pic_x.append(data)\n",
    "        list_of_pic_y.append(label)\n",
    "        if len(list_of_pic_x)==batch_size:\n",
    "            ultimate_list.append((np.array(list_of_pic_x),np.array(list_of_pic_y)))\n",
    "            list_of_pic_x=[]\n",
    "            list_of_pic_y=[]\n",
    "    return ultimate_list"
   ]
  },
  {
   "cell_type": "code",
   "execution_count": 19,
   "metadata": {},
   "outputs": [],
   "source": [
    "def get_len(the_path):\n",
    "    length=0\n",
    "    categories=os.listdir(the_path)\n",
    "    for category in categories:\n",
    "        Path=os.path.join(the_path,category)\n",
    "        length=length+len(os.listdir(Path))\n",
    "    return length"
   ]
  },
  {
   "cell_type": "code",
   "execution_count": 20,
   "metadata": {},
   "outputs": [],
   "source": [
    "# load and resizing the images\n",
    "def get_image_big_batch(Batch,Big_Batch_size,the_path,Batch_size):\n",
    "    categories=os.listdir(the_path)\n",
    "    Start=Big_Batch_size*(Batch//((Big_Batch_size*len(categories))//Batch_size))\n",
    "    categories=os.listdir(the_path)\n",
    "    MyDataSet=[]\n",
    "    for category in categories:\n",
    "        label=categories.index(category)\n",
    "        Path=os.path.join(the_path,category)\n",
    "        if len(os.listdir(Path))>Start+Big_Batch_size:\n",
    "            for pic_name in os.listdir(Path)[Start:Start+Big_Batch_size]:\n",
    "                MyDataSet.append((os.path.join(Path,pic_name),label))\n",
    "        else:\n",
    "            for pic_name in os.listdir(Path)[Start:]:\n",
    "                MyDataSet.append((os.path.join(Path,pic_name),label))\n",
    "    shuffled_MyDataSet=shuffle(MyDataSet)\n",
    "    return shuffled_MyDataSet\n"
   ]
  },
  {
   "cell_type": "code",
   "execution_count": 21,
   "metadata": {},
   "outputs": [],
   "source": [
    "def get_portion_from_big_batch(batch,portion_size,the_big_batch,pic_size):\n",
    "    Start=portion_size*(batch%(len(the_big_batch)//portion_size))\n",
    "    X_portion_of_MyDataSet=[]\n",
    "    Y_portion_of_MyDataSet=[]\n",
    "    for path,Y in the_big_batch[Start:Start+portion_size]:\n",
    "        try:\n",
    "            image=cv2.imread(path)/255\n",
    "            resized = cv2.resize(image, (pic_size, pic_size))\n",
    "        except:\n",
    "            continue\n",
    "        X_portion_of_MyDataSet.append(resized)\n",
    "        Y_portion_of_MyDataSet.append(Y)\n",
    "    return X_portion_of_MyDataSet,Y_portion_of_MyDataSet"
   ]
  },
  {
   "cell_type": "code",
   "execution_count": 22,
   "metadata": {},
   "outputs": [],
   "source": [
    "def train_on_batch(the_path,batch_size,portion_size,Big_Batch_size,n_epoch,pic_size,augmentation_num):\n",
    "    loss_history=[]\n",
    "    acc_history=[]\n",
    "    categories=os.listdir(the_path)\n",
    "    for epoch in range(n_epoch):\n",
    "        for batch in tqdm(range((get_len(the_path))//batch_size)):\n",
    "            if batch%(((Big_Batch_size*len(categories))//batch_size))==0:\n",
    "                access_1='granted'\n",
    "            else:\n",
    "                access_1='not granted'\n",
    "            if access_1=='granted':\n",
    "                Big_Batch=get_image_big_batch(batch,Big_Batch_size,the_path,batch_size)   \n",
    "            portion_x,portion_y=get_portion_from_big_batch(batch,portion_size,Big_Batch,pic_size)\n",
    "            list_of_augmented_pic=pic_augmentation(portion_x,portion_y,augmentation_num,batch_size)\n",
    "            for batch_x,batch_y in list_of_augmented_pic:\n",
    "                loss,acc=model.train_on_batch(np.array(batch_x),np.array(batch_y))\n",
    "                loss_history.append(loss)\n",
    "                acc_history.append(acc)\n",
    "        print('Epoch: %d ,     Train Loss %.4f,    Train Acc. %.4f' %\n",
    "\t\t\t(epoch+1, loss, acc))\n",
    "    return {'loss_history':loss_history,'acc_history':acc_history}"
   ]
  },
  {
   "cell_type": "code",
   "execution_count": 23,
   "metadata": {},
   "outputs": [
    {
     "name": "stderr",
     "output_type": "stream",
     "text": [
      "100%|██████████| 780/780 [08:57<00:00,  1.45it/s]\n"
     ]
    },
    {
     "name": "stdout",
     "output_type": "stream",
     "text": [
      "Epoch: 1 ,     Train Loss 0.7013,    Train Acc. 0.5938\n"
     ]
    },
    {
     "name": "stderr",
     "output_type": "stream",
     "text": [
      "100%|██████████| 780/780 [10:18<00:00,  1.26it/s]\n"
     ]
    },
    {
     "name": "stdout",
     "output_type": "stream",
     "text": [
      "Epoch: 2 ,     Train Loss 0.5861,    Train Acc. 0.7500\n"
     ]
    },
    {
     "name": "stderr",
     "output_type": "stream",
     "text": [
      "100%|██████████| 780/780 [09:54<00:00,  1.31it/s]\n"
     ]
    },
    {
     "name": "stdout",
     "output_type": "stream",
     "text": [
      "Epoch: 3 ,     Train Loss 0.5928,    Train Acc. 0.7812\n"
     ]
    },
    {
     "name": "stderr",
     "output_type": "stream",
     "text": [
      "100%|██████████| 780/780 [09:26<00:00,  1.38it/s]\n"
     ]
    },
    {
     "name": "stdout",
     "output_type": "stream",
     "text": [
      "Epoch: 4 ,     Train Loss 0.4526,    Train Acc. 0.7812\n"
     ]
    },
    {
     "name": "stderr",
     "output_type": "stream",
     "text": [
      "100%|██████████| 780/780 [09:45<00:00,  1.33it/s]"
     ]
    },
    {
     "name": "stdout",
     "output_type": "stream",
     "text": [
      "Epoch: 5 ,     Train Loss 0.3846,    Train Acc. 0.7500\n"
     ]
    },
    {
     "name": "stderr",
     "output_type": "stream",
     "text": [
      "\n"
     ]
    }
   ],
   "source": [
    "path='D:\\datasets\\cat vs dog\\PetImages'\n",
    "history=train_on_batch(the_path=path,batch_size=32,portion_size=32,Big_Batch_size=512,n_epoch=5,pic_size=200,augmentation_num=1)"
   ]
  }
 ],
 "metadata": {
  "kernelspec": {
   "display_name": "tensorflow_gpu",
   "language": "python",
   "name": "python3"
  },
  "language_info": {
   "codemirror_mode": {
    "name": "ipython",
    "version": 3
   },
   "file_extension": ".py",
   "mimetype": "text/x-python",
   "name": "python",
   "nbconvert_exporter": "python",
   "pygments_lexer": "ipython3",
   "version": "3.9.17"
  },
  "orig_nbformat": 4
 },
 "nbformat": 4,
 "nbformat_minor": 2
}
